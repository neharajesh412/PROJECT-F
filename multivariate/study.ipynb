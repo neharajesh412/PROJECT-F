{
 "cells": [
  {
   "cell_type": "code",
   "execution_count": 100,
   "metadata": {},
   "outputs": [],
   "source": [
    "import numpy as np\n",
    "from keras.models import Sequential\n",
    "from keras.layers import LSTM\n",
    "from keras.layers import Dense, Dropout\n",
    "import pandas as pd\n",
    "from matplotlib import pyplot as plt\n",
    "from sklearn.preprocessing import StandardScaler\n",
    "import yfinance as yf"
   ]
  },
  {
   "cell_type": "code",
   "execution_count": 115,
   "metadata": {},
   "outputs": [
    {
     "name": "stdout",
     "output_type": "stream",
     "text": [
      "[*********************100%***********************]  1 of 1 completed\n"
     ]
    },
    {
     "data": {
      "text/html": [
       "<div>\n",
       "<style scoped>\n",
       "    .dataframe tbody tr th:only-of-type {\n",
       "        vertical-align: middle;\n",
       "    }\n",
       "\n",
       "    .dataframe tbody tr th {\n",
       "        vertical-align: top;\n",
       "    }\n",
       "\n",
       "    .dataframe thead th {\n",
       "        text-align: right;\n",
       "    }\n",
       "</style>\n",
       "<table border=\"1\" class=\"dataframe\">\n",
       "  <thead>\n",
       "    <tr style=\"text-align: right;\">\n",
       "      <th></th>\n",
       "      <th>Open</th>\n",
       "      <th>High</th>\n",
       "      <th>Low</th>\n",
       "      <th>Close</th>\n",
       "      <th>Adj Close</th>\n",
       "      <th>Volume</th>\n",
       "    </tr>\n",
       "    <tr>\n",
       "      <th>Date</th>\n",
       "      <th></th>\n",
       "      <th></th>\n",
       "      <th></th>\n",
       "      <th></th>\n",
       "      <th></th>\n",
       "      <th></th>\n",
       "    </tr>\n",
       "  </thead>\n",
       "  <tbody>\n",
       "    <tr>\n",
       "      <th>2020-06-01</th>\n",
       "      <td>164.000000</td>\n",
       "      <td>171.399994</td>\n",
       "      <td>163.350006</td>\n",
       "      <td>170.050003</td>\n",
       "      <td>165.905243</td>\n",
       "      <td>92740893</td>\n",
       "    </tr>\n",
       "    <tr>\n",
       "      <th>2020-06-02</th>\n",
       "      <td>169.899994</td>\n",
       "      <td>171.300003</td>\n",
       "      <td>167.199997</td>\n",
       "      <td>170.250000</td>\n",
       "      <td>166.100357</td>\n",
       "      <td>70419104</td>\n",
       "    </tr>\n",
       "    <tr>\n",
       "      <th>2020-06-03</th>\n",
       "      <td>172.500000</td>\n",
       "      <td>179.899994</td>\n",
       "      <td>172.000000</td>\n",
       "      <td>174.899994</td>\n",
       "      <td>170.637024</td>\n",
       "      <td>113168889</td>\n",
       "    </tr>\n",
       "    <tr>\n",
       "      <th>2020-06-04</th>\n",
       "      <td>174.899994</td>\n",
       "      <td>177.649994</td>\n",
       "      <td>171.500000</td>\n",
       "      <td>174.050003</td>\n",
       "      <td>169.807739</td>\n",
       "      <td>83494674</td>\n",
       "    </tr>\n",
       "    <tr>\n",
       "      <th>2020-06-05</th>\n",
       "      <td>176.550003</td>\n",
       "      <td>189.800003</td>\n",
       "      <td>176.000000</td>\n",
       "      <td>187.800003</td>\n",
       "      <td>183.222610</td>\n",
       "      <td>201321234</td>\n",
       "    </tr>\n",
       "    <tr>\n",
       "      <th>...</th>\n",
       "      <td>...</td>\n",
       "      <td>...</td>\n",
       "      <td>...</td>\n",
       "      <td>...</td>\n",
       "      <td>...</td>\n",
       "      <td>...</td>\n",
       "    </tr>\n",
       "    <tr>\n",
       "      <th>2022-06-16</th>\n",
       "      <td>455.149994</td>\n",
       "      <td>457.750000</td>\n",
       "      <td>440.149994</td>\n",
       "      <td>441.600006</td>\n",
       "      <td>441.600006</td>\n",
       "      <td>10780703</td>\n",
       "    </tr>\n",
       "    <tr>\n",
       "      <th>2022-06-17</th>\n",
       "      <td>440.000000</td>\n",
       "      <td>447.549988</td>\n",
       "      <td>437.250000</td>\n",
       "      <td>441.000000</td>\n",
       "      <td>441.000000</td>\n",
       "      <td>14326050</td>\n",
       "    </tr>\n",
       "    <tr>\n",
       "      <th>2022-06-20</th>\n",
       "      <td>441.500000</td>\n",
       "      <td>443.450012</td>\n",
       "      <td>430.700012</td>\n",
       "      <td>434.700012</td>\n",
       "      <td>434.700012</td>\n",
       "      <td>12368534</td>\n",
       "    </tr>\n",
       "    <tr>\n",
       "      <th>2022-06-21</th>\n",
       "      <td>439.500000</td>\n",
       "      <td>454.950012</td>\n",
       "      <td>437.600006</td>\n",
       "      <td>450.750000</td>\n",
       "      <td>450.750000</td>\n",
       "      <td>13801891</td>\n",
       "    </tr>\n",
       "    <tr>\n",
       "      <th>2022-06-22</th>\n",
       "      <td>448.750000</td>\n",
       "      <td>451.200012</td>\n",
       "      <td>444.649994</td>\n",
       "      <td>447.649994</td>\n",
       "      <td>447.649994</td>\n",
       "      <td>11066447</td>\n",
       "    </tr>\n",
       "  </tbody>\n",
       "</table>\n",
       "<p>516 rows × 6 columns</p>\n",
       "</div>"
      ],
      "text/plain": [
       "                  Open        High         Low       Close   Adj Close  \\\n",
       "Date                                                                     \n",
       "2020-06-01  164.000000  171.399994  163.350006  170.050003  165.905243   \n",
       "2020-06-02  169.899994  171.300003  167.199997  170.250000  166.100357   \n",
       "2020-06-03  172.500000  179.899994  172.000000  174.899994  170.637024   \n",
       "2020-06-04  174.899994  177.649994  171.500000  174.050003  169.807739   \n",
       "2020-06-05  176.550003  189.800003  176.000000  187.800003  183.222610   \n",
       "...                ...         ...         ...         ...         ...   \n",
       "2022-06-16  455.149994  457.750000  440.149994  441.600006  441.600006   \n",
       "2022-06-17  440.000000  447.549988  437.250000  441.000000  441.000000   \n",
       "2022-06-20  441.500000  443.450012  430.700012  434.700012  434.700012   \n",
       "2022-06-21  439.500000  454.950012  437.600006  450.750000  450.750000   \n",
       "2022-06-22  448.750000  451.200012  444.649994  447.649994  447.649994   \n",
       "\n",
       "               Volume  \n",
       "Date                   \n",
       "2020-06-01   92740893  \n",
       "2020-06-02   70419104  \n",
       "2020-06-03  113168889  \n",
       "2020-06-04   83494674  \n",
       "2020-06-05  201321234  \n",
       "...               ...  \n",
       "2022-06-16   10780703  \n",
       "2022-06-17   14326050  \n",
       "2022-06-20   12368534  \n",
       "2022-06-21   13801891  \n",
       "2022-06-22   11066447  \n",
       "\n",
       "[516 rows x 6 columns]"
      ]
     },
     "execution_count": 115,
     "metadata": {},
     "output_type": "execute_result"
    }
   ],
   "source": [
    "stock_symbol=\"SBIN.NS\"\n",
    "# import seaborn as sns\n",
    "\n",
    "start_date='2020-06-01'\n",
    "end_date='2022-06-23'\n",
    "df =yf.download(stock_symbol, str(start_date), str(end_date))\n",
    "# df.reset_index(inplace=True)\n",
    "# df=pd.DataFrame({'Date':df1.index, 'Close':df1['Close'],'Open':df1['Open'],'High':df1['High'],'Low':df1['Low'],'Adj Close':df1['Adj Close'],'Volume':df1['Volume']})\n",
    "# df=df1[['Date','Close','Open','High','Low','Adj Close','Volume']]\n",
    "# df=df.drop(['Date'],axis=1)\n",
    "df"
   ]
  },
  {
   "cell_type": "code",
   "execution_count": 116,
   "metadata": {},
   "outputs": [],
   "source": [
    "# df = yf.download(tickers=stock_symbol,period='2y')\n",
    "# df.index=df['Date'] \n",
    "# df['MA100']=df.Close.rolling(100).mean()\n",
    "# df['MA200']=df.Close.rolling(200).mean()\n",
    "# df['EMA20'] = df['Close'].ewm(span=20, adjust=False).mean()\n",
    "# df = df.assign(VWAP=df.eval('wgtd = Close * Volume', inplace=False).cumsum().eval('wgtd / Volume'))\n",
    "# # df=df.drop(['Open', 'High','Low','Adj Close','Volume'], axis = 1)\n",
    "# df=df.dropna()\n",
    "# df"
   ]
  },
  {
   "cell_type": "code",
   "execution_count": 117,
   "metadata": {},
   "outputs": [],
   "source": [
    "df.reset_index(inplace=True)"
   ]
  },
  {
   "cell_type": "code",
   "execution_count": 149,
   "metadata": {},
   "outputs": [
    {
     "data": {
      "text/plain": [
       "array([[-1.75111878, -1.71701582, -1.72978591, -1.70131758, -1.6921335 ,\n",
       "         1.81881081],\n",
       "       [-1.70131261, -1.71785277, -1.69692654, -1.69962687, -1.69047265,\n",
       "         1.06101992],\n",
       "       [-1.67936406, -1.64586876, -1.6559589 , -1.66031716, -1.65185569,\n",
       "         2.51231029],\n",
       "       ...,\n",
       "       [ 0.59146196,  0.56010883,  0.552025  ,  0.53595721,  0.59589776,\n",
       "        -0.9097089 ],\n",
       "       [ 0.5745785 ,  0.65636662,  0.6109159 ,  0.67163918,  0.73251825,\n",
       "        -0.8610486 ],\n",
       "       [ 0.65266452,  0.62497821,  0.67108698,  0.64543262,  0.70613042,\n",
       "        -0.95391278]])"
      ]
     },
     "execution_count": 149,
     "metadata": {},
     "output_type": "execute_result"
    }
   ],
   "source": [
    "train_dates = pd.to_datetime(df['Date'])\n",
    "cols = list(df)[1:7]\n",
    "df_for_training = df[cols].astype(float)\n",
    "scaler = StandardScaler()\n",
    "scaler = scaler.fit(df_for_training)\n",
    "df_for_training_scaled = scaler.transform(df_for_training)\n",
    "df_for_training_scaled"
   ]
  },
  {
   "cell_type": "code",
   "execution_count": 153,
   "metadata": {},
   "outputs": [
    {
     "data": {
      "text/plain": [
       "array([[-1.57916148e+00],\n",
       "       [-1.55210963e+00],\n",
       "       [-1.51195450e+00],\n",
       "       [-1.57831606e+00],\n",
       "       [-1.57282119e+00],\n",
       "       [-1.57831606e+00],\n",
       "       [-1.62354346e+00],\n",
       "       [-1.63030646e+00],\n",
       "       [-1.57662534e+00],\n",
       "       [-1.57113048e+00],\n",
       "       [-1.57747076e+00],\n",
       "       [-1.54915078e+00],\n",
       "       [-1.54450121e+00],\n",
       "       [-1.51660407e+00],\n",
       "       [-1.45573724e+00],\n",
       "       [-1.48532523e+00],\n",
       "       [-1.50984107e+00],\n",
       "       [-1.56605820e+00],\n",
       "       [-1.58507905e+00],\n",
       "       [-1.56436748e+00],\n",
       "       [-1.54788277e+00],\n",
       "       [-1.52632578e+00],\n",
       "       [-1.49546979e+00],\n",
       "       [-1.51575864e+00],\n",
       "       [-1.46292295e+00],\n",
       "       [-1.51618135e+00],\n",
       "       [-1.55675919e+00],\n",
       "       [-1.53731563e+00],\n",
       "       [-1.52252164e+00],\n",
       "       [-1.56183134e+00],\n",
       "       [-1.52040821e+00],\n",
       "       [-1.51364522e+00],\n",
       "       [-1.51914008e+00],\n",
       "       [-1.52040821e+00],\n",
       "       [-1.52463507e+00],\n",
       "       [-1.52717120e+00],\n",
       "       [-1.50054194e+00],\n",
       "       [-1.48997480e+00],\n",
       "       [-1.42023168e+00],\n",
       "       [-1.43206695e+00],\n",
       "       [-1.47771694e+00],\n",
       "       [-1.50645951e+00],\n",
       "       [-1.48955209e+00],\n",
       "       [-1.47306737e+00],\n",
       "       [-1.49251094e+00],\n",
       "       [-1.46165494e+00],\n",
       "       [-1.43587110e+00],\n",
       "       [-1.38092197e+00],\n",
       "       [-1.36485984e+00],\n",
       "       [-1.31582842e+00],\n",
       "       [-1.23805417e+00],\n",
       "       [-1.34668442e+00],\n",
       "       [-1.29511672e+00],\n",
       "       [-1.31075614e+00],\n",
       "       [-1.33696270e+00],\n",
       "       [-1.39233441e+00],\n",
       "       [-1.38134468e+00],\n",
       "       [-1.41389140e+00],\n",
       "       [-1.49166551e+00],\n",
       "       [-1.46376837e+00],\n",
       "       [-1.42530396e+00],\n",
       "       [-1.46080952e+00],\n",
       "       [-1.44686095e+00],\n",
       "       [-1.46334566e+00],\n",
       "       [-1.48659336e+00],\n",
       "       [-1.51068636e+00],\n",
       "       [-1.56817163e+00],\n",
       "       [-1.56479019e+00],\n",
       "       [-1.58507905e+00],\n",
       "       [-1.64805917e+00],\n",
       "       [-1.59860504e+00],\n",
       "       [-1.55591377e+00],\n",
       "       [-1.57451191e+00],\n",
       "       [-1.57155319e+00],\n",
       "       [-1.53012993e+00],\n",
       "       [-1.54323320e+00],\n",
       "       [-1.51914008e+00],\n",
       "       [-1.52674849e+00],\n",
       "       [-1.51998550e+00],\n",
       "       [-1.46250024e+00],\n",
       "       [-1.45911880e+00],\n",
       "       [-1.48447994e+00],\n",
       "       [-1.44770624e+00],\n",
       "       [-1.50857294e+00],\n",
       "       [-1.48236651e+00],\n",
       "       [-1.41431411e+00],\n",
       "       [-1.42234511e+00],\n",
       "       [-1.41642753e+00],\n",
       "       [-1.42023168e+00],\n",
       "       [-1.42445853e+00],\n",
       "       [-1.47602623e+00],\n",
       "       [-1.49335636e+00],\n",
       "       [-1.52886192e+00],\n",
       "       [-1.54365592e+00],\n",
       "       [-1.53900635e+00],\n",
       "       [-1.48152109e+00],\n",
       "       [-1.40797382e+00],\n",
       "       [-1.38895297e+00],\n",
       "       [-1.29046729e+00],\n",
       "       [-1.28581772e+00],\n",
       "       [-1.28328158e+00],\n",
       "       [-1.18014633e+00],\n",
       "       [-1.15901205e+00],\n",
       "       [-1.22156946e+00],\n",
       "       [-1.19916718e+00],\n",
       "       [-1.19747646e+00],\n",
       "       [-1.10828978e+00],\n",
       "       [-1.00853596e+00],\n",
       "       [-1.11209392e+00],\n",
       "       [-1.08673279e+00],\n",
       "       [-1.12097035e+00],\n",
       "       [-1.07743366e+00],\n",
       "       [-1.08461936e+00],\n",
       "       [-1.06390780e+00],\n",
       "       [-1.07405222e+00],\n",
       "       [-1.04192809e+00],\n",
       "       [-1.05122723e+00],\n",
       "       [-9.72185105e-01],\n",
       "       [-9.11318280e-01],\n",
       "       [-8.59750589e-01],\n",
       "       [-8.40307156e-01],\n",
       "       [-8.53410305e-01],\n",
       "       [-8.60173429e-01],\n",
       "       [-8.35657460e-01],\n",
       "       [-8.20863465e-01],\n",
       "       [-8.50874295e-01],\n",
       "       [-8.61441434e-01],\n",
       "       [-8.75812589e-01],\n",
       "       [-8.44111171e-01],\n",
       "       [-9.85710966e-01],\n",
       "       [-9.62463130e-01],\n",
       "       [-9.15545135e-01],\n",
       "       [-8.82998295e-01],\n",
       "       [-8.12409753e-01],\n",
       "       [-7.89584887e-01],\n",
       "       [-7.98038599e-01],\n",
       "       [-8.14523181e-01],\n",
       "       [-7.76904320e-01],\n",
       "       [-7.62955748e-01],\n",
       "       [-7.57038047e-01],\n",
       "       [-7.29140903e-01],\n",
       "       [-7.06738361e-01],\n",
       "       [-7.21109774e-01],\n",
       "       [-7.50697763e-01],\n",
       "       [-6.66160650e-01],\n",
       "       [-5.45272680e-01],\n",
       "       [-5.41468407e-01],\n",
       "       [-5.70210974e-01],\n",
       "       [-6.49675809e-01],\n",
       "       [-6.14592959e-01],\n",
       "       [-5.81200954e-01],\n",
       "       [-6.46294376e-01],\n",
       "       [-7.40553207e-01],\n",
       "       [-7.63800913e-01],\n",
       "       [-8.08605738e-01],\n",
       "       [-7.51965769e-01],\n",
       "       [-7.54079196e-01],\n",
       "       [-5.12303000e-01],\n",
       "       [-3.22939916e-01],\n",
       "       [-2.98846787e-01],\n",
       "       [-1.36958266e-01],\n",
       "       [ 1.84282766e-01],\n",
       "       [ 2.17674771e-01],\n",
       "       [ 1.98653921e-01],\n",
       "       [ 1.77097060e-01],\n",
       "       [ 1.59344214e-01],\n",
       "       [ 1.84705349e-01],\n",
       "       [ 3.01366720e-01],\n",
       "       [ 2.62479596e-01],\n",
       "       [ 3.41944432e-01],\n",
       "       [ 3.71109839e-01],\n",
       "       [ 2.38809050e-01],\n",
       "       [ 1.53849354e-01],\n",
       "       [ 2.05417045e-01],\n",
       "       [ 2.95449019e-01],\n",
       "       [ 3.03902731e-01],\n",
       "       [ 1.59344214e-01],\n",
       "       [ 1.99922184e-01],\n",
       "       [ 1.93581900e-01],\n",
       "       [ 2.85304462e-01],\n",
       "       [ 2.05839627e-01],\n",
       "       [ 1.04395091e-01],\n",
       "       [ 1.54694776e-01],\n",
       "       [ 1.37787354e-01],\n",
       "       [ 1.38632776e-01],\n",
       "       [ 8.28382297e-02],\n",
       "       [ 1.06508518e-01],\n",
       "       [ 6.12811109e-02],\n",
       "       [-2.66374358e-02],\n",
       "       [-3.55137296e-02],\n",
       "       [-1.27630168e-03],\n",
       "       [-3.63591523e-02],\n",
       "       [ 1.18271057e-02],\n",
       "       [-9.68031370e-02],\n",
       "       [-1.36112843e-01],\n",
       "       [-1.19205421e-01],\n",
       "       [-8.87722660e-02],\n",
       "       [-5.91842762e-02],\n",
       "       [-5.50315737e-03],\n",
       "       [-1.50061673e-01],\n",
       "       [-1.75422808e-01],\n",
       "       [-1.07793117e-01],\n",
       "       [-1.32731410e-01],\n",
       "       [-1.54711112e-01],\n",
       "       [-3.58868190e-01],\n",
       "       [-2.56155648e-01],\n",
       "       [-2.41784236e-01],\n",
       "       [-2.65454782e-01],\n",
       "       [-3.39424757e-01],\n",
       "       [-3.53373329e-01],\n",
       "       [-2.92929344e-01],\n",
       "       [-2.94619932e-01],\n",
       "       [-2.28258504e-01],\n",
       "       [-1.54288529e-01],\n",
       "       [-6.67925648e-02],\n",
       "       [-1.00607410e-01],\n",
       "       [-1.50484256e-01],\n",
       "       [-1.74999967e-01],\n",
       "       [-1.67391679e-01],\n",
       "       [-1.34422256e-01],\n",
       "       [-1.33154251e-01],\n",
       "       [-1.10329127e-01],\n",
       "       [-8.11637194e-02],\n",
       "       [-5.62254256e-02],\n",
       "       [-3.04414511e-02],\n",
       "       [-9.17308586e-02],\n",
       "       [ 9.97456524e-02],\n",
       "       [ 9.25599462e-02],\n",
       "       [ 1.10735374e-01],\n",
       "       [ 1.12003379e-01],\n",
       "       [ 2.52757880e-01],\n",
       "       [ 3.44480442e-01],\n",
       "       [ 3.47016710e-01],\n",
       "       [ 3.57161009e-01],\n",
       "       [ 4.55646953e-01],\n",
       "       [ 4.29017556e-01],\n",
       "       [ 4.48461247e-01],\n",
       "       [ 5.17781525e-01],\n",
       "       [ 5.57514072e-01],\n",
       "       [ 5.77802928e-01],\n",
       "       [ 5.26658077e-01],\n",
       "       [ 5.15245515e-01],\n",
       "       [ 4.72554376e-01],\n",
       "       [ 4.23945535e-01],\n",
       "       [ 5.15245515e-01],\n",
       "       [ 4.92843231e-01],\n",
       "       [ 4.99183515e-01],\n",
       "       [ 4.91997809e-01],\n",
       "       [ 4.61987236e-01],\n",
       "       [ 4.13800978e-01],\n",
       "       [ 3.51666148e-01],\n",
       "       [ 4.09574123e-01],\n",
       "       [ 4.00274989e-01],\n",
       "       [ 4.01965834e-01],\n",
       "       [ 3.88017262e-01],\n",
       "       [ 4.86080107e-01],\n",
       "       [ 4.68750102e-01],\n",
       "       [ 4.24368118e-01],\n",
       "       [ 4.04924685e-01],\n",
       "       [ 4.15068984e-01],\n",
       "       [ 4.48883829e-01],\n",
       "       [ 5.18626948e-01],\n",
       "       [ 4.94111236e-01],\n",
       "       [ 5.20317793e-01],\n",
       "       [ 4.49306669e-01],\n",
       "       [ 4.43388968e-01],\n",
       "       [ 4.74667804e-01],\n",
       "       [ 4.88616376e-01],\n",
       "       [ 5.05100958e-01],\n",
       "       [ 5.10596077e-01],\n",
       "       [ 4.96224664e-01],\n",
       "       [ 4.78471819e-01],\n",
       "       [ 4.19295839e-01],\n",
       "       [ 4.29017556e-01],\n",
       "       [ 4.86925530e-01],\n",
       "       [ 4.39584695e-01],\n",
       "       [ 4.95802082e-01],\n",
       "       [ 4.58182963e-01],\n",
       "       [ 5.93864928e-01],\n",
       "       [ 5.11441242e-01],\n",
       "       [ 5.37647798e-01],\n",
       "       [ 6.35710902e-01],\n",
       "       [ 7.24052289e-01],\n",
       "       [ 5.96401196e-01],\n",
       "       [ 5.43988082e-01],\n",
       "       [ 5.24967231e-01],\n",
       "       [ 4.66214092e-01],\n",
       "       [ 4.79739824e-01],\n",
       "       [ 4.72131535e-01],\n",
       "       [ 5.06369221e-01],\n",
       "       [ 4.52688102e-01],\n",
       "       [ 4.24368118e-01],\n",
       "       [ 4.09151540e-01],\n",
       "       [ 2.99253292e-01],\n",
       "       [ 3.22923581e-01],\n",
       "       [ 3.91398695e-01],\n",
       "       [ 3.79986133e-01],\n",
       "       [ 3.33490720e-01],\n",
       "       [ 3.47862133e-01],\n",
       "       [ 4.34512674e-01],\n",
       "       [ 4.62832401e-01],\n",
       "       [ 4.95379242e-01],\n",
       "       [ 4.94111236e-01],\n",
       "       [ 5.08059809e-01],\n",
       "       [ 5.05100958e-01],\n",
       "       [ 4.88616376e-01],\n",
       "       [ 5.07637226e-01],\n",
       "       [ 5.15668097e-01],\n",
       "       [ 5.20317793e-01],\n",
       "       [ 5.21585798e-01],\n",
       "       [ 6.13308618e-01],\n",
       "       [ 7.81114841e-01],\n",
       "       [ 6.99959160e-01],\n",
       "       [ 5.59204917e-01],\n",
       "       [ 5.70617221e-01],\n",
       "       [ 5.71040062e-01],\n",
       "       [ 6.63608046e-01],\n",
       "       [ 5.87102062e-01],\n",
       "       [ 6.36556325e-01],\n",
       "       [ 6.22184912e-01],\n",
       "       [ 7.49836006e-01],\n",
       "       [ 6.90660026e-01],\n",
       "       [ 6.79247464e-01],\n",
       "       [ 7.76465145e-01],\n",
       "       [ 7.89568552e-01],\n",
       "       [ 7.26165717e-01],\n",
       "       [ 7.32083160e-01],\n",
       "       [ 7.32928583e-01],\n",
       "       [ 8.28032836e-01],\n",
       "       [ 9.44271367e-01],\n",
       "       [ 9.33281646e-01],\n",
       "       [ 1.00851963e+00],\n",
       "       [ 1.07065446e+00],\n",
       "       [ 9.88230770e-01],\n",
       "       [ 1.08713904e+00],\n",
       "       [ 1.11292301e+00],\n",
       "       [ 1.11292301e+00],\n",
       "       [ 1.14293358e+00],\n",
       "       [ 1.19407844e+00],\n",
       "       [ 1.24987324e+00],\n",
       "       [ 1.09939702e+00],\n",
       "       [ 1.10615989e+00],\n",
       "       [ 1.22070783e+00],\n",
       "       [ 1.27143010e+00],\n",
       "       [ 1.32172979e+00],\n",
       "       [ 1.34540008e+00],\n",
       "       [ 1.28453325e+00],\n",
       "       [ 1.33441035e+00],\n",
       "       [ 1.29425522e+00],\n",
       "       [ 1.16914014e+00],\n",
       "       [ 1.18393414e+00],\n",
       "       [ 1.14335617e+00],\n",
       "       [ 1.04656133e+00],\n",
       "       [ 1.07234504e+00],\n",
       "       [ 1.12010846e+00],\n",
       "       [ 9.73013934e-01],\n",
       "       [ 1.02923106e+00],\n",
       "       [ 1.03007649e+00],\n",
       "       [ 1.00809678e+00],\n",
       "       [ 8.38599975e-01],\n",
       "       [ 7.92949985e-01],\n",
       "       [ 7.54485444e-01],\n",
       "       [ 8.79177686e-01],\n",
       "       [ 8.93549099e-01],\n",
       "       [ 8.61002259e-01],\n",
       "       [ 7.94640573e-01],\n",
       "       [ 8.91013089e-01],\n",
       "       [ 1.01655050e+00],\n",
       "       [ 9.92034785e-01],\n",
       "       [ 1.04317989e+00],\n",
       "       [ 9.84849079e-01],\n",
       "       [ 9.91189362e-01],\n",
       "       [ 9.59487945e-01],\n",
       "       [ 9.28631950e-01],\n",
       "       [ 8.15774851e-01],\n",
       "       [ 6.58536026e-01],\n",
       "       [ 6.31484046e-01],\n",
       "       [ 7.14753155e-01],\n",
       "       [ 7.65052583e-01],\n",
       "       [ 7.24052289e-01],\n",
       "       [ 7.33351165e-01],\n",
       "       [ 7.59980562e-01],\n",
       "       [ 7.02495170e-01],\n",
       "       [ 6.79670304e-01],\n",
       "       [ 7.53640279e-01],\n",
       "       [ 8.41135985e-01],\n",
       "       [ 9.48498223e-01],\n",
       "       [ 1.02373620e+00],\n",
       "       [ 1.01781876e+00],\n",
       "       [ 1.01401449e+00],\n",
       "       [ 1.11884046e+00],\n",
       "       [ 1.13828415e+00],\n",
       "       [ 1.17463500e+00],\n",
       "       [ 1.18393414e+00],\n",
       "       [ 1.15857300e+00],\n",
       "       [ 1.20633642e+00],\n",
       "       [ 1.14546959e+00],\n",
       "       [ 1.22155300e+00],\n",
       "       [ 1.18435672e+00],\n",
       "       [ 1.11080958e+00],\n",
       "       [ 1.03853020e+00],\n",
       "       [ 1.21183154e+00],\n",
       "       [ 1.33271951e+00],\n",
       "       [ 1.28622410e+00],\n",
       "       [ 1.41176150e+00],\n",
       "       [ 1.36103923e+00],\n",
       "       [ 1.42444207e+00],\n",
       "       [ 1.42697808e+00],\n",
       "       [ 1.34413181e+00],\n",
       "       [ 1.36907036e+00],\n",
       "       [ 1.35300811e+00],\n",
       "       [ 1.38597779e+00],\n",
       "       [ 1.43078235e+00],\n",
       "       [ 1.33821411e+00],\n",
       "       [ 1.09981960e+00],\n",
       "       [ 1.29763640e+00],\n",
       "       [ 1.22916154e+00],\n",
       "       [ 1.19746013e+00],\n",
       "       [ 1.21732614e+00],\n",
       "       [ 1.18816099e+00],\n",
       "       [ 1.07445847e+00],\n",
       "       [ 1.07699474e+00],\n",
       "       [ 8.56775403e-01],\n",
       "       [ 9.43848785e-01],\n",
       "       [ 9.45962213e-01],\n",
       "       [ 8.70301393e-01],\n",
       "       [ 8.12393418e-01],\n",
       "       [ 7.66320846e-01],\n",
       "       [ 5.83297788e-01],\n",
       "       [ 5.83297788e-01],\n",
       "       [ 6.79670304e-01],\n",
       "       [ 8.23383398e-01],\n",
       "       [ 8.37331970e-01],\n",
       "       [ 9.62446795e-01],\n",
       "       [ 9.68364496e-01],\n",
       "       [ 1.02669505e+00],\n",
       "       [ 1.10404646e+00],\n",
       "       [ 1.00851963e+00],\n",
       "       [ 1.03472618e+00],\n",
       "       [ 1.00894221e+00],\n",
       "       [ 9.78931635e-01],\n",
       "       [ 1.00936505e+00],\n",
       "       [ 1.06685018e+00],\n",
       "       [ 1.04571590e+00],\n",
       "       [ 1.03979820e+00],\n",
       "       [ 1.03345792e+00],\n",
       "       [ 1.15730500e+00],\n",
       "       [ 1.19281069e+00],\n",
       "       [ 1.16744930e+00],\n",
       "       [ 1.20591384e+00],\n",
       "       [ 1.21436755e+00],\n",
       "       [ 1.22408901e+00],\n",
       "       [ 1.21394497e+00],\n",
       "       [ 1.19661445e+00],\n",
       "       [ 1.23761526e+00],\n",
       "       [ 1.16829472e+00],\n",
       "       [ 1.18773815e+00],\n",
       "       [ 1.16660387e+00],\n",
       "       [ 1.22577985e+00],\n",
       "       [ 1.09305674e+00],\n",
       "       [ 1.04360248e+00],\n",
       "       [ 1.13447987e+00],\n",
       "       [ 1.06473675e+00],\n",
       "       [ 1.15138730e+00],\n",
       "       [ 1.05670563e+00],\n",
       "       [ 1.01190106e+00],\n",
       "       [ 9.15951383e-01],\n",
       "       [ 9.18910233e-01],\n",
       "       [ 9.52302496e-01],\n",
       "       [ 8.84249965e-01],\n",
       "       [ 8.78332522e-01],\n",
       "       [ 8.89744826e-01],\n",
       "       [ 7.72238289e-01],\n",
       "       [ 6.20071484e-01],\n",
       "       [ 7.07567449e-01],\n",
       "       [ 8.11547995e-01],\n",
       "       [ 7.32928583e-01],\n",
       "       [ 6.44164613e-01],\n",
       "       [ 7.70124861e-01],\n",
       "       [ 7.57444294e-01],\n",
       "       [ 7.67166011e-01],\n",
       "       [ 6.99959160e-01],\n",
       "       [ 8.25073985e-01],\n",
       "       [ 8.25496826e-01],\n",
       "       [ 8.73260243e-01],\n",
       "       [ 8.18311119e-01],\n",
       "       [ 8.20001707e-01],\n",
       "       [ 8.33105114e-01],\n",
       "       [ 7.87877707e-01],\n",
       "       [ 7.81114841e-01],\n",
       "       [ 7.78578573e-01],\n",
       "       [ 8.45362841e-01],\n",
       "       [ 8.08589403e-01],\n",
       "       [ 7.65475423e-01],\n",
       "       [ 6.30216041e-01],\n",
       "       [ 6.49236892e-01],\n",
       "       [ 6.76711454e-01],\n",
       "       [ 5.94287768e-01],\n",
       "       [ 5.89215489e-01],\n",
       "       [ 5.35957211e-01],\n",
       "       [ 6.71639175e-01],\n",
       "       [ 6.45432619e-01]])"
      ]
     },
     "execution_count": 153,
     "metadata": {},
     "output_type": "execute_result"
    }
   ],
   "source": [
    "trainX=[]\n",
    "trainY=[]\n",
    "n_fut=1\n",
    "n_past=14\n",
    "\n",
    "for i in range(n_past, len(df_for_training_scaled) - n_fut +1):\n",
    "    trainX.append(df_for_training_scaled[i - n_past:i, 0:df_for_training.shape[1]])\n",
    "    trainY.append(df_for_training_scaled[i + n_fut - 1:i + n_fut, 3])\n",
    "trainX, trainY = np.array(trainX), np.array(trainY)\n",
    "trainY"
   ]
  },
  {
   "cell_type": "code",
   "execution_count": 154,
   "metadata": {},
   "outputs": [
    {
     "name": "stdout",
     "output_type": "stream",
     "text": [
      "Model: \"sequential_9\"\n",
      "_________________________________________________________________\n",
      " Layer (type)                Output Shape              Param #   \n",
      "=================================================================\n",
      " lstm_18 (LSTM)              (None, 14, 64)            18176     \n",
      "                                                                 \n",
      " lstm_19 (LSTM)              (None, 32)                12416     \n",
      "                                                                 \n",
      " dropout_9 (Dropout)         (None, 32)                0         \n",
      "                                                                 \n",
      " dense_9 (Dense)             (None, 1)                 33        \n",
      "                                                                 \n",
      "=================================================================\n",
      "Total params: 30,625\n",
      "Trainable params: 30,625\n",
      "Non-trainable params: 0\n",
      "_________________________________________________________________\n"
     ]
    }
   ],
   "source": [
    "model = Sequential()\n",
    "model.add(LSTM(64, activation='relu', input_shape=(trainX.shape[1], trainX.shape[2]), return_sequences=True))\n",
    "model.add(LSTM(32, activation='relu', return_sequences=False))\n",
    "model.add(Dropout(0.2))\n",
    "model.add(Dense(trainY.shape[1]))\n",
    "model.summary()"
   ]
  },
  {
   "cell_type": "code",
   "execution_count": 155,
   "metadata": {},
   "outputs": [
    {
     "name": "stdout",
     "output_type": "stream",
     "text": [
      "Epoch 1/5\n",
      "29/29 [==============================] - 2s 20ms/step - loss: 0.4108 - val_loss: 0.0280\n",
      "Epoch 2/5\n",
      "29/29 [==============================] - 0s 9ms/step - loss: 0.0613 - val_loss: 0.0138\n",
      "Epoch 3/5\n",
      "29/29 [==============================] - 0s 10ms/step - loss: 0.0449 - val_loss: 0.0219\n",
      "Epoch 4/5\n",
      "29/29 [==============================] - 0s 10ms/step - loss: 0.0507 - val_loss: 0.0186\n",
      "Epoch 5/5\n",
      "29/29 [==============================] - 0s 11ms/step - loss: 0.0466 - val_loss: 0.0103\n"
     ]
    },
    {
     "data": {
      "text/plain": [
       "<matplotlib.legend.Legend at 0x1dcfea2db70>"
      ]
     },
     "execution_count": 155,
     "metadata": {},
     "output_type": "execute_result"
    },
    {
     "data": {
      "image/png": "[encoded data removed]",
      "text/plain": [
       "<Figure size 432x288 with 1 Axes>"
      ]
     },
     "metadata": {
      "needs_background": "light"
     },
     "output_type": "display_data"
    }
   ],
   "source": [
    "model.compile(optimizer='adam', loss='mse')\n",
    "history = model.fit(trainX, trainY, epochs=5, batch_size=16, validation_split=0.1, verbose=1)\n",
    "model.save(stock_symbol+'.h5')\n",
    "plt.plot(history.history['loss'], label='Training loss')\n",
    "plt.plot(history.history['val_loss'], label='Validation loss')\n",
    "plt.legend()"
   ]
  },
  {
   "cell_type": "code",
   "execution_count": 156,
   "metadata": {},
   "outputs": [
    {
     "data": {
      "text/plain": [
       "array([[0.743634  ],\n",
       "       [0.7635542 ],\n",
       "       [0.77552676],\n",
       "       [0.77762043],\n",
       "       [0.7794503 ],\n",
       "       [0.7840911 ],\n",
       "       [0.7851724 ],\n",
       "       [0.7825944 ],\n",
       "       [0.76855195],\n",
       "       [0.7520671 ],\n",
       "       [0.7393288 ],\n",
       "       [0.72448236],\n",
       "       [0.70564634],\n",
       "       [0.6858456 ],\n",
       "       [0.6731256 ]], dtype=float32)"
      ]
     },
     "execution_count": 156,
     "metadata": {},
     "output_type": "execute_result"
    }
   ],
   "source": [
    "n_future=15\n",
    "predict_period_dates = pd.date_range(list(train_dates)[-n_past], periods=n_future, freq='1d').tolist()\n",
    "prediction = model.predict(trainX[-n_future:])\n",
    "prediction"
   ]
  },
  {
   "cell_type": "code",
   "execution_count": 158,
   "metadata": {},
   "outputs": [],
   "source": [
    "prediction_copies = np.repeat(prediction, df_for_training.shape[1], axis=-1)\n",
    "y_pred_future = scaler.inverse_transform(prediction_copies)[:,3]"
   ]
  },
  {
   "cell_type": "code",
   "execution_count": 159,
   "metadata": {},
   "outputs": [],
   "source": [
    "forecast_dates = []\n",
    "for time_i in predict_period_dates:\n",
    "    forecast_dates.append(time_i.date())"
   ]
  },
  {
   "cell_type": "code",
   "execution_count": 160,
   "metadata": {},
   "outputs": [
    {
     "data": {
      "text/html": [
       "<div>\n",
       "<style scoped>\n",
       "    .dataframe tbody tr th:only-of-type {\n",
       "        vertical-align: middle;\n",
       "    }\n",
       "\n",
       "    .dataframe tbody tr th {\n",
       "        vertical-align: top;\n",
       "    }\n",
       "\n",
       "    .dataframe thead th {\n",
       "        text-align: right;\n",
       "    }\n",
       "</style>\n",
       "<table border=\"1\" class=\"dataframe\">\n",
       "  <thead>\n",
       "    <tr style=\"text-align: right;\">\n",
       "      <th></th>\n",
       "      <th>Date</th>\n",
       "      <th>Close</th>\n",
       "    </tr>\n",
       "    <tr>\n",
       "      <th>Date</th>\n",
       "      <th></th>\n",
       "      <th></th>\n",
       "    </tr>\n",
       "  </thead>\n",
       "  <tbody>\n",
       "    <tr>\n",
       "      <th>2022-06-03</th>\n",
       "      <td>2022-06-03</td>\n",
       "      <td>459.266357</td>\n",
       "    </tr>\n",
       "    <tr>\n",
       "      <th>2022-06-04</th>\n",
       "      <td>2022-06-04</td>\n",
       "      <td>461.622742</td>\n",
       "    </tr>\n",
       "    <tr>\n",
       "      <th>2022-06-05</th>\n",
       "      <td>2022-06-05</td>\n",
       "      <td>463.039001</td>\n",
       "    </tr>\n",
       "    <tr>\n",
       "      <th>2022-06-06</th>\n",
       "      <td>2022-06-06</td>\n",
       "      <td>463.286652</td>\n",
       "    </tr>\n",
       "    <tr>\n",
       "      <th>2022-06-07</th>\n",
       "      <td>2022-06-07</td>\n",
       "      <td>463.503113</td>\n",
       "    </tr>\n",
       "    <tr>\n",
       "      <th>2022-06-08</th>\n",
       "      <td>2022-06-08</td>\n",
       "      <td>464.052094</td>\n",
       "    </tr>\n",
       "    <tr>\n",
       "      <th>2022-06-09</th>\n",
       "      <td>2022-06-09</td>\n",
       "      <td>464.179993</td>\n",
       "    </tr>\n",
       "    <tr>\n",
       "      <th>2022-06-10</th>\n",
       "      <td>2022-06-10</td>\n",
       "      <td>463.875031</td>\n",
       "    </tr>\n",
       "    <tr>\n",
       "      <th>2022-06-11</th>\n",
       "      <td>2022-06-11</td>\n",
       "      <td>462.213928</td>\n",
       "    </tr>\n",
       "    <tr>\n",
       "      <th>2022-06-12</th>\n",
       "      <td>2022-06-12</td>\n",
       "      <td>460.263916</td>\n",
       "    </tr>\n",
       "    <tr>\n",
       "      <th>2022-06-13</th>\n",
       "      <td>2022-06-13</td>\n",
       "      <td>458.757080</td>\n",
       "    </tr>\n",
       "    <tr>\n",
       "      <th>2022-06-14</th>\n",
       "      <td>2022-06-14</td>\n",
       "      <td>457.000885</td>\n",
       "    </tr>\n",
       "    <tr>\n",
       "      <th>2022-06-15</th>\n",
       "      <td>2022-06-15</td>\n",
       "      <td>454.772736</td>\n",
       "    </tr>\n",
       "    <tr>\n",
       "      <th>2022-06-16</th>\n",
       "      <td>2022-06-16</td>\n",
       "      <td>452.430481</td>\n",
       "    </tr>\n",
       "    <tr>\n",
       "      <th>2022-06-17</th>\n",
       "      <td>2022-06-17</td>\n",
       "      <td>450.925842</td>\n",
       "    </tr>\n",
       "  </tbody>\n",
       "</table>\n",
       "</div>"
      ],
      "text/plain": [
       "                 Date       Close\n",
       "Date                             \n",
       "2022-06-03 2022-06-03  459.266357\n",
       "2022-06-04 2022-06-04  461.622742\n",
       "2022-06-05 2022-06-05  463.039001\n",
       "2022-06-06 2022-06-06  463.286652\n",
       "2022-06-07 2022-06-07  463.503113\n",
       "2022-06-08 2022-06-08  464.052094\n",
       "2022-06-09 2022-06-09  464.179993\n",
       "2022-06-10 2022-06-10  463.875031\n",
       "2022-06-11 2022-06-11  462.213928\n",
       "2022-06-12 2022-06-12  460.263916\n",
       "2022-06-13 2022-06-13  458.757080\n",
       "2022-06-14 2022-06-14  457.000885\n",
       "2022-06-15 2022-06-15  454.772736\n",
       "2022-06-16 2022-06-16  452.430481\n",
       "2022-06-17 2022-06-17  450.925842"
      ]
     },
     "execution_count": 160,
     "metadata": {},
     "output_type": "execute_result"
    }
   ],
   "source": [
    "df_forecast = pd.DataFrame({'Date':np.array(forecast_dates), 'Close':y_pred_future})\n",
    "df_forecast['Date']=pd.to_datetime(df_forecast['Date'])\n",
    "df_forecast.index=df_forecast['Date']\n",
    "df_forecast"
   ]
  },
  {
   "cell_type": "code",
   "execution_count": 161,
   "metadata": {},
   "outputs": [
    {
     "name": "stderr",
     "output_type": "stream",
     "text": [
      "C:\\Users\\NEHA RAJESH\\AppData\\Local\\Temp\\ipykernel_14376\\3244569456.py:2: SettingWithCopyWarning:\n",
      "\n",
      "\n",
      "A value is trying to be set on a copy of a slice from a DataFrame.\n",
      "Try using .loc[row_indexer,col_indexer] = value instead\n",
      "\n",
      "See the caveats in the documentation: https://pandas.pydata.org/pandas-docs/stable/user_guide/indexing.html#returning-a-view-versus-a-copy\n",
      "\n"
     ]
    },
    {
     "data": {
      "text/html": [
       "<div>\n",
       "<style scoped>\n",
       "    .dataframe tbody tr th:only-of-type {\n",
       "        vertical-align: middle;\n",
       "    }\n",
       "\n",
       "    .dataframe tbody tr th {\n",
       "        vertical-align: top;\n",
       "    }\n",
       "\n",
       "    .dataframe thead th {\n",
       "        text-align: right;\n",
       "    }\n",
       "</style>\n",
       "<table border=\"1\" class=\"dataframe\">\n",
       "  <thead>\n",
       "    <tr style=\"text-align: right;\">\n",
       "      <th></th>\n",
       "      <th>Close</th>\n",
       "    </tr>\n",
       "    <tr>\n",
       "      <th>Date</th>\n",
       "      <th></th>\n",
       "    </tr>\n",
       "  </thead>\n",
       "  <tbody>\n",
       "    <tr>\n",
       "      <th>2022-06-02</th>\n",
       "      <td>469.850006</td>\n",
       "    </tr>\n",
       "    <tr>\n",
       "      <th>2022-06-03</th>\n",
       "      <td>464.500000</td>\n",
       "    </tr>\n",
       "    <tr>\n",
       "      <th>2022-06-06</th>\n",
       "      <td>463.700012</td>\n",
       "    </tr>\n",
       "    <tr>\n",
       "      <th>2022-06-07</th>\n",
       "      <td>463.399994</td>\n",
       "    </tr>\n",
       "    <tr>\n",
       "      <th>2022-06-08</th>\n",
       "      <td>471.299988</td>\n",
       "    </tr>\n",
       "    <tr>\n",
       "      <th>2022-06-09</th>\n",
       "      <td>466.950012</td>\n",
       "    </tr>\n",
       "    <tr>\n",
       "      <th>2022-06-10</th>\n",
       "      <td>461.850006</td>\n",
       "    </tr>\n",
       "    <tr>\n",
       "      <th>2022-06-13</th>\n",
       "      <td>445.850006</td>\n",
       "    </tr>\n",
       "    <tr>\n",
       "      <th>2022-06-14</th>\n",
       "      <td>448.100006</td>\n",
       "    </tr>\n",
       "    <tr>\n",
       "      <th>2022-06-15</th>\n",
       "      <td>451.350006</td>\n",
       "    </tr>\n",
       "    <tr>\n",
       "      <th>2022-06-16</th>\n",
       "      <td>441.600006</td>\n",
       "    </tr>\n",
       "    <tr>\n",
       "      <th>2022-06-17</th>\n",
       "      <td>441.000000</td>\n",
       "    </tr>\n",
       "    <tr>\n",
       "      <th>2022-06-20</th>\n",
       "      <td>434.700012</td>\n",
       "    </tr>\n",
       "    <tr>\n",
       "      <th>2022-06-21</th>\n",
       "      <td>450.750000</td>\n",
       "    </tr>\n",
       "    <tr>\n",
       "      <th>2022-06-22</th>\n",
       "      <td>447.649994</td>\n",
       "    </tr>\n",
       "  </tbody>\n",
       "</table>\n",
       "</div>"
      ],
      "text/plain": [
       "                 Close\n",
       "Date                  \n",
       "2022-06-02  469.850006\n",
       "2022-06-03  464.500000\n",
       "2022-06-06  463.700012\n",
       "2022-06-07  463.399994\n",
       "2022-06-08  471.299988\n",
       "2022-06-09  466.950012\n",
       "2022-06-10  461.850006\n",
       "2022-06-13  445.850006\n",
       "2022-06-14  448.100006\n",
       "2022-06-15  451.350006\n",
       "2022-06-16  441.600006\n",
       "2022-06-17  441.000000\n",
       "2022-06-20  434.700012\n",
       "2022-06-21  450.750000\n",
       "2022-06-22  447.649994"
      ]
     },
     "execution_count": 161,
     "metadata": {},
     "output_type": "execute_result"
    }
   ],
   "source": [
    "original=df[['Date','Close']]\n",
    "original['Date']=pd.to_datetime(original['Date'])\n",
    "original.index=original['Date']\n",
    "original=original.drop(['Date'],axis=1)\n",
    "original=original.tail(n_future)\n",
    "original\n"
   ]
  },
  {
   "cell_type": "code",
   "execution_count": 162,
   "metadata": {},
   "outputs": [
    {
     "data": {
      "text/html": [
       "<div>\n",
       "<style scoped>\n",
       "    .dataframe tbody tr th:only-of-type {\n",
       "        vertical-align: middle;\n",
       "    }\n",
       "\n",
       "    .dataframe tbody tr th {\n",
       "        vertical-align: top;\n",
       "    }\n",
       "\n",
       "    .dataframe thead th {\n",
       "        text-align: right;\n",
       "    }\n",
       "</style>\n",
       "<table border=\"1\" class=\"dataframe\">\n",
       "  <thead>\n",
       "    <tr style=\"text-align: right;\">\n",
       "      <th></th>\n",
       "      <th>Date</th>\n",
       "      <th>Close</th>\n",
       "      <th>Actual</th>\n",
       "    </tr>\n",
       "    <tr>\n",
       "      <th>Date</th>\n",
       "      <th></th>\n",
       "      <th></th>\n",
       "      <th></th>\n",
       "    </tr>\n",
       "  </thead>\n",
       "  <tbody>\n",
       "    <tr>\n",
       "      <th>2022-06-03</th>\n",
       "      <td>2022-06-03</td>\n",
       "      <td>459.266357</td>\n",
       "      <td>464.500000</td>\n",
       "    </tr>\n",
       "    <tr>\n",
       "      <th>2022-06-06</th>\n",
       "      <td>2022-06-06</td>\n",
       "      <td>463.286652</td>\n",
       "      <td>463.700012</td>\n",
       "    </tr>\n",
       "    <tr>\n",
       "      <th>2022-06-07</th>\n",
       "      <td>2022-06-07</td>\n",
       "      <td>463.503113</td>\n",
       "      <td>463.399994</td>\n",
       "    </tr>\n",
       "    <tr>\n",
       "      <th>2022-06-08</th>\n",
       "      <td>2022-06-08</td>\n",
       "      <td>464.052094</td>\n",
       "      <td>471.299988</td>\n",
       "    </tr>\n",
       "    <tr>\n",
       "      <th>2022-06-09</th>\n",
       "      <td>2022-06-09</td>\n",
       "      <td>464.179993</td>\n",
       "      <td>466.950012</td>\n",
       "    </tr>\n",
       "    <tr>\n",
       "      <th>2022-06-10</th>\n",
       "      <td>2022-06-10</td>\n",
       "      <td>463.875031</td>\n",
       "      <td>461.850006</td>\n",
       "    </tr>\n",
       "    <tr>\n",
       "      <th>2022-06-13</th>\n",
       "      <td>2022-06-13</td>\n",
       "      <td>458.757080</td>\n",
       "      <td>445.850006</td>\n",
       "    </tr>\n",
       "    <tr>\n",
       "      <th>2022-06-14</th>\n",
       "      <td>2022-06-14</td>\n",
       "      <td>457.000885</td>\n",
       "      <td>448.100006</td>\n",
       "    </tr>\n",
       "    <tr>\n",
       "      <th>2022-06-15</th>\n",
       "      <td>2022-06-15</td>\n",
       "      <td>454.772736</td>\n",
       "      <td>451.350006</td>\n",
       "    </tr>\n",
       "    <tr>\n",
       "      <th>2022-06-16</th>\n",
       "      <td>2022-06-16</td>\n",
       "      <td>452.430481</td>\n",
       "      <td>441.600006</td>\n",
       "    </tr>\n",
       "    <tr>\n",
       "      <th>2022-06-17</th>\n",
       "      <td>2022-06-17</td>\n",
       "      <td>450.925842</td>\n",
       "      <td>441.000000</td>\n",
       "    </tr>\n",
       "  </tbody>\n",
       "</table>\n",
       "</div>"
      ],
      "text/plain": [
       "                 Date       Close      Actual\n",
       "Date                                         \n",
       "2022-06-03 2022-06-03  459.266357  464.500000\n",
       "2022-06-06 2022-06-06  463.286652  463.700012\n",
       "2022-06-07 2022-06-07  463.503113  463.399994\n",
       "2022-06-08 2022-06-08  464.052094  471.299988\n",
       "2022-06-09 2022-06-09  464.179993  466.950012\n",
       "2022-06-10 2022-06-10  463.875031  461.850006\n",
       "2022-06-13 2022-06-13  458.757080  445.850006\n",
       "2022-06-14 2022-06-14  457.000885  448.100006\n",
       "2022-06-15 2022-06-15  454.772736  451.350006\n",
       "2022-06-16 2022-06-16  452.430481  441.600006\n",
       "2022-06-17 2022-06-17  450.925842  441.000000"
      ]
     },
     "execution_count": 162,
     "metadata": {},
     "output_type": "execute_result"
    }
   ],
   "source": [
    "df_forecast['Actual']=original['Close']\n",
    "df_forecast=df_forecast.dropna()\n",
    "# df_forecast=df_forecast.drop(['Date'],axis=1)\n",
    "df_forecast"
   ]
  },
  {
   "cell_type": "code",
   "execution_count": 163,
   "metadata": {},
   "outputs": [],
   "source": [
    "import matplotlib.pyplot as plt\n",
    "import plotly.graph_objs as go\n",
    "import plotly.express as px"
   ]
  },
  {
   "cell_type": "code",
   "execution_count": 164,
   "metadata": {},
   "outputs": [
    {
     "data": {
      "application/vnd.plotly.v1+json": {
       "config": {
        "plotlyServerURL": "https://plot.ly"
       },
       "data": [
        {
         "hovertemplate": "Prediction=Close<br>index=%{x}<br>value=%{y}<extra></extra>",
         "legendgroup": "Close",
         "line": {
          "color": "#636efa",
          "dash": "solid"
         },
         "marker": {
          "symbol": "circle"
         },
         "mode": "lines",
         "name": "Close",
         "orientation": "v",
         "showlegend": true,
         "type": "scatter",
         "x": [
          "2022-06-03T00:00:00",
          "2022-06-06T00:00:00",
          "2022-06-07T00:00:00",
          "2022-06-08T00:00:00",
          "2022-06-09T00:00:00",
          "2022-06-10T00:00:00",
          "2022-06-13T00:00:00",
          "2022-06-14T00:00:00",
          "2022-06-15T00:00:00",
          "2022-06-16T00:00:00",
          "2022-06-17T00:00:00"
         ],
         "xaxis": "x",
         "y": [
          459.266357421875,
          463.2866516113281,
          463.50311279296875,
          464.0520935058594,
          464.17999267578125,
          463.8750305175781,
          458.757080078125,
          457.0008850097656,
          454.7727355957031,
          452.43048095703125,
          450.92584228515625
         ],
         "yaxis": "y"
        },
        {
         "hovertemplate": "Prediction=Actual<br>index=%{x}<br>value=%{y}<extra></extra>",
         "legendgroup": "Actual",
         "line": {
          "color": "#EF553B",
          "dash": "solid"
         },
         "marker": {
          "symbol": "circle"
         },
         "mode": "lines",
         "name": "Actual",
         "orientation": "v",
         "showlegend": true,
         "type": "scatter",
         "x": [
          "2022-06-03T00:00:00",
          "2022-06-06T00:00:00",
          "2022-06-07T00:00:00",
          "2022-06-08T00:00:00",
          "2022-06-09T00:00:00",
          "2022-06-10T00:00:00",
          "2022-06-13T00:00:00",
          "2022-06-14T00:00:00",
          "2022-06-15T00:00:00",
          "2022-06-16T00:00:00",
          "2022-06-17T00:00:00"
         ],
         "xaxis": "x",
         "y": [
          464.5,
          463.70001220703125,
          463.3999938964844,
          471.29998779296875,
          466.95001220703125,
          461.8500061035156,
          445.8500061035156,
          448.1000061035156,
          451.3500061035156,
          441.6000061035156,
          441
         ],
         "yaxis": "y"
        }
       ],
       "layout": {
        "legend": {
         "title": {
          "text": "Prediction"
         },
         "tracegroupgap": 0
        },
        "template": {
         "data": {
          "bar": [
           {
            "error_x": {
             "color": "#2a3f5f"
            },
            "error_y": {
             "color": "#2a3f5f"
            },
            "marker": {
             "line": {
              "color": "#E5ECF6",
              "width": 0.5
             },
             "pattern": {
              "fillmode": "overlay",
              "size": 10,
              "solidity": 0.2
             }
            },
            "type": "bar"
           }
          ],
          "barpolar": [
           {
            "marker": {
             "line": {
              "color": "#E5ECF6",
              "width": 0.5
             },
             "pattern": {
              "fillmode": "overlay",
              "size": 10,
              "solidity": 0.2
             }
            },
            "type": "barpolar"
           }
          ],
          "carpet": [
           {
            "aaxis": {
             "endlinecolor": "#2a3f5f",
             "gridcolor": "white",
             "linecolor": "white",
             "minorgridcolor": "white",
             "startlinecolor": "#2a3f5f"
            },
            "baxis": {
             "endlinecolor": "#2a3f5f",
             "gridcolor": "white",
             "linecolor": "white",
             "minorgridcolor": "white",
             "startlinecolor": "#2a3f5f"
            },
            "type": "carpet"
           }
          ],
          "choropleth": [
           {
            "colorbar": {
             "outlinewidth": 0,
             "ticks": ""
            },
            "type": "choropleth"
           }
          ],
          "contour": [
           {
            "colorbar": {
             "outlinewidth": 0,
             "ticks": ""
            },
            "colorscale": [
             [
              0,
              "#0d0887"
             ],
             [
              0.1111111111111111,
              "#46039f"
             ],
             [
              0.2222222222222222,
              "#7201a8"
             ],
             [
              0.3333333333333333,
              "#9c179e"
             ],
             [
              0.4444444444444444,
              "#bd3786"
             ],
             [
              0.5555555555555556,
              "#d8576b"
             ],
             [
              0.6666666666666666,
              "#ed7953"
             ],
             [
              0.7777777777777778,
              "#fb9f3a"
             ],
             [
              0.8888888888888888,
              "#fdca26"
             ],
             [
              1,
              "#f0f921"
             ]
            ],
            "type": "contour"
           }
          ],
          "contourcarpet": [
           {
            "colorbar": {
             "outlinewidth": 0,
             "ticks": ""
            },
            "type": "contourcarpet"
           }
          ],
          "heatmap": [
           {
            "colorbar": {
             "outlinewidth": 0,
             "ticks": ""
            },
            "colorscale": [
             [
              0,
              "#0d0887"
             ],
             [
              0.1111111111111111,
              "#46039f"
             ],
             [
              0.2222222222222222,
              "#7201a8"
             ],
             [
              0.3333333333333333,
              "#9c179e"
             ],
             [
              0.4444444444444444,
              "#bd3786"
             ],
             [
              0.5555555555555556,
              "#d8576b"
             ],
             [
              0.6666666666666666,
              "#ed7953"
             ],
             [
              0.7777777777777778,
              "#fb9f3a"
             ],
             [
              0.8888888888888888,
              "#fdca26"
             ],
             [
              1,
              "#f0f921"
             ]
            ],
            "type": "heatmap"
           }
          ],
          "heatmapgl": [
           {
            "colorbar": {
             "outlinewidth": 0,
             "ticks": ""
            },
            "colorscale": [
             [
              0,
              "#0d0887"
             ],
             [
              0.1111111111111111,
              "#46039f"
             ],
             [
              0.2222222222222222,
              "#7201a8"
             ],
             [
              0.3333333333333333,
              "#9c179e"
             ],
             [
              0.4444444444444444,
              "#bd3786"
             ],
             [
              0.5555555555555556,
              "#d8576b"
             ],
             [
              0.6666666666666666,
              "#ed7953"
             ],
             [
              0.7777777777777778,
              "#fb9f3a"
             ],
             [
              0.8888888888888888,
              "#fdca26"
             ],
             [
              1,
              "#f0f921"
             ]
            ],
            "type": "heatmapgl"
           }
          ],
          "histogram": [
           {
            "marker": {
             "pattern": {
              "fillmode": "overlay",
              "size": 10,
              "solidity": 0.2
             }
            },
            "type": "histogram"
           }
          ],
          "histogram2d": [
           {
            "colorbar": {
             "outlinewidth": 0,
             "ticks": ""
            },
            "colorscale": [
             [
              0,
              "#0d0887"
             ],
             [
              0.1111111111111111,
              "#46039f"
             ],
             [
              0.2222222222222222,
              "#7201a8"
             ],
             [
              0.3333333333333333,
              "#9c179e"
             ],
             [
              0.4444444444444444,
              "#bd3786"
             ],
             [
              0.5555555555555556,
              "#d8576b"
             ],
             [
              0.6666666666666666,
              "#ed7953"
             ],
             [
              0.7777777777777778,
              "#fb9f3a"
             ],
             [
              0.8888888888888888,
              "#fdca26"
             ],
             [
              1,
              "#f0f921"
             ]
            ],
            "type": "histogram2d"
           }
          ],
          "histogram2dcontour": [
           {
            "colorbar": {
             "outlinewidth": 0,
             "ticks": ""
            },
            "colorscale": [
             [
              0,
              "#0d0887"
             ],
             [
              0.1111111111111111,
              "#46039f"
             ],
             [
              0.2222222222222222,
              "#7201a8"
             ],
             [
              0.3333333333333333,
              "#9c179e"
             ],
             [
              0.4444444444444444,
              "#bd3786"
             ],
             [
              0.5555555555555556,
              "#d8576b"
             ],
             [
              0.6666666666666666,
              "#ed7953"
             ],
             [
              0.7777777777777778,
              "#fb9f3a"
             ],
             [
              0.8888888888888888,
              "#fdca26"
             ],
             [
              1,
              "#f0f921"
             ]
            ],
            "type": "histogram2dcontour"
           }
          ],
          "mesh3d": [
           {
            "colorbar": {
             "outlinewidth": 0,
             "ticks": ""
            },
            "type": "mesh3d"
           }
          ],
          "parcoords": [
           {
            "line": {
             "colorbar": {
              "outlinewidth": 0,
              "ticks": ""
             }
            },
            "type": "parcoords"
           }
          ],
          "pie": [
           {
            "automargin": true,
            "type": "pie"
           }
          ],
          "scatter": [
           {
            "fillpattern": {
             "fillmode": "overlay",
             "size": 10,
             "solidity": 0.2
            },
            "type": "scatter"
           }
          ],
          "scatter3d": [
           {
            "line": {
             "colorbar": {
              "outlinewidth": 0,
              "ticks": ""
             }
            },
            "marker": {
             "colorbar": {
              "outlinewidth": 0,
              "ticks": ""
             }
            },
            "type": "scatter3d"
           }
          ],
          "scattercarpet": [
           {
            "marker": {
             "colorbar": {
              "outlinewidth": 0,
              "ticks": ""
             }
            },
            "type": "scattercarpet"
           }
          ],
          "scattergeo": [
           {
            "marker": {
             "colorbar": {
              "outlinewidth": 0,
              "ticks": ""
             }
            },
            "type": "scattergeo"
           }
          ],
          "scattergl": [
           {
            "marker": {
             "colorbar": {
              "outlinewidth": 0,
              "ticks": ""
             }
            },
            "type": "scattergl"
           }
          ],
          "scattermapbox": [
           {
            "marker": {
             "colorbar": {
              "outlinewidth": 0,
              "ticks": ""
             }
            },
            "type": "scattermapbox"
           }
          ],
          "scatterpolar": [
           {
            "marker": {
             "colorbar": {
              "outlinewidth": 0,
              "ticks": ""
             }
            },
            "type": "scatterpolar"
           }
          ],
          "scatterpolargl": [
           {
            "marker": {
             "colorbar": {
              "outlinewidth": 0,
              "ticks": ""
             }
            },
            "type": "scatterpolargl"
           }
          ],
          "scatterternary": [
           {
            "marker": {
             "colorbar": {
              "outlinewidth": 0,
              "ticks": ""
             }
            },
            "type": "scatterternary"
           }
          ],
          "surface": [
           {
            "colorbar": {
             "outlinewidth": 0,
             "ticks": ""
            },
            "colorscale": [
             [
              0,
              "#0d0887"
             ],
             [
              0.1111111111111111,
              "#46039f"
             ],
             [
              0.2222222222222222,
              "#7201a8"
             ],
             [
              0.3333333333333333,
              "#9c179e"
             ],
             [
              0.4444444444444444,
              "#bd3786"
             ],
             [
              0.5555555555555556,
              "#d8576b"
             ],
             [
              0.6666666666666666,
              "#ed7953"
             ],
             [
              0.7777777777777778,
              "#fb9f3a"
             ],
             [
              0.8888888888888888,
              "#fdca26"
             ],
             [
              1,
              "#f0f921"
             ]
            ],
            "type": "surface"
           }
          ],
          "table": [
           {
            "cells": {
             "fill": {
              "color": "#EBF0F8"
             },
             "line": {
              "color": "white"
             }
            },
            "header": {
             "fill": {
              "color": "#C8D4E3"
             },
             "line": {
              "color": "white"
             }
            },
            "type": "table"
           }
          ]
         },
         "layout": {
          "annotationdefaults": {
           "arrowcolor": "#2a3f5f",
           "arrowhead": 0,
           "arrowwidth": 1
          },
          "autotypenumbers": "strict",
          "coloraxis": {
           "colorbar": {
            "outlinewidth": 0,
            "ticks": ""
           }
          },
          "colorscale": {
           "diverging": [
            [
             0,
             "#8e0152"
            ],
            [
             0.1,
             "#c51b7d"
            ],
            [
             0.2,
             "#de77ae"
            ],
            [
             0.3,
             "#f1b6da"
            ],
            [
             0.4,
             "#fde0ef"
            ],
            [
             0.5,
             "#f7f7f7"
            ],
            [
             0.6,
             "#e6f5d0"
            ],
            [
             0.7,
             "#b8e186"
            ],
            [
             0.8,
             "#7fbc41"
            ],
            [
             0.9,
             "#4d9221"
            ],
            [
             1,
             "#276419"
            ]
           ],
           "sequential": [
            [
             0,
             "#0d0887"
            ],
            [
             0.1111111111111111,
             "#46039f"
            ],
            [
             0.2222222222222222,
             "#7201a8"
            ],
            [
             0.3333333333333333,
             "#9c179e"
            ],
            [
             0.4444444444444444,
             "#bd3786"
            ],
            [
             0.5555555555555556,
             "#d8576b"
            ],
            [
             0.6666666666666666,
             "#ed7953"
            ],
            [
             0.7777777777777778,
             "#fb9f3a"
            ],
            [
             0.8888888888888888,
             "#fdca26"
            ],
            [
             1,
             "#f0f921"
            ]
           ],
           "sequentialminus": [
            [
             0,
             "#0d0887"
            ],
            [
             0.1111111111111111,
             "#46039f"
            ],
            [
             0.2222222222222222,
             "#7201a8"
            ],
            [
             0.3333333333333333,
             "#9c179e"
            ],
            [
             0.4444444444444444,
             "#bd3786"
            ],
            [
             0.5555555555555556,
             "#d8576b"
            ],
            [
             0.6666666666666666,
             "#ed7953"
            ],
            [
             0.7777777777777778,
             "#fb9f3a"
            ],
            [
             0.8888888888888888,
             "#fdca26"
            ],
            [
             1,
             "#f0f921"
            ]
           ]
          },
          "colorway": [
           "#636efa",
           "#EF553B",
           "#00cc96",
           "#ab63fa",
           "#FFA15A",
           "#19d3f3",
           "#FF6692",
           "#B6E880",
           "#FF97FF",
           "#FECB52"
          ],
          "font": {
           "color": "#2a3f5f"
          },
          "geo": {
           "bgcolor": "white",
           "lakecolor": "white",
           "landcolor": "#E5ECF6",
           "showlakes": true,
           "showland": true,
           "subunitcolor": "white"
          },
          "hoverlabel": {
           "align": "left"
          },
          "hovermode": "closest",
          "mapbox": {
           "style": "light"
          },
          "paper_bgcolor": "white",
          "plot_bgcolor": "#E5ECF6",
          "polar": {
           "angularaxis": {
            "gridcolor": "white",
            "linecolor": "white",
            "ticks": ""
           },
           "bgcolor": "#E5ECF6",
           "radialaxis": {
            "gridcolor": "white",
            "linecolor": "white",
            "ticks": ""
           }
          },
          "scene": {
           "xaxis": {
            "backgroundcolor": "#E5ECF6",
            "gridcolor": "white",
            "gridwidth": 2,
            "linecolor": "white",
            "showbackground": true,
            "ticks": "",
            "zerolinecolor": "white"
           },
           "yaxis": {
            "backgroundcolor": "#E5ECF6",
            "gridcolor": "white",
            "gridwidth": 2,
            "linecolor": "white",
            "showbackground": true,
            "ticks": "",
            "zerolinecolor": "white"
           },
           "zaxis": {
            "backgroundcolor": "#E5ECF6",
            "gridcolor": "white",
            "gridwidth": 2,
            "linecolor": "white",
            "showbackground": true,
            "ticks": "",
            "zerolinecolor": "white"
           }
          },
          "shapedefaults": {
           "line": {
            "color": "#2a3f5f"
           }
          },
          "ternary": {
           "aaxis": {
            "gridcolor": "white",
            "linecolor": "white",
            "ticks": ""
           },
           "baxis": {
            "gridcolor": "white",
            "linecolor": "white",
            "ticks": ""
           },
           "bgcolor": "#E5ECF6",
           "caxis": {
            "gridcolor": "white",
            "linecolor": "white",
            "ticks": ""
           }
          },
          "title": {
           "x": 0.05
          },
          "xaxis": {
           "automargin": true,
           "gridcolor": "white",
           "linecolor": "white",
           "ticks": "",
           "title": {
            "standoff": 15
           },
           "zerolinecolor": "white",
           "zerolinewidth": 2
          },
          "yaxis": {
           "automargin": true,
           "gridcolor": "white",
           "linecolor": "white",
           "ticks": "",
           "title": {
            "standoff": 15
           },
           "zerolinecolor": "white",
           "zerolinewidth": 2
          }
         }
        },
        "title": {
         "text": "Prediction for next 15 days"
        },
        "xaxis": {
         "anchor": "y",
         "domain": [
          0,
          1
         ],
         "title": {
          "text": "n Day"
         }
        },
        "yaxis": {
         "anchor": "x",
         "domain": [
          0,
          1
         ],
         "title": {
          "text": "Prices in ₹"
         }
        }
       }
      }
     },
     "metadata": {},
     "output_type": "display_data"
    }
   ],
   "source": [
    "fig = px.line( df_forecast,\n",
    "                        x=df_forecast.index,\n",
    "                        y=['Close','Actual'],\n",
    "                        title=\"Prediction for next {0} days\".format(n_future),\n",
    "                        labels=dict(variable=\"Prediction\"))\n",
    "fig.update_yaxes(title_text='Prices in ₹')\n",
    "fig.update_xaxes(title_text='n Day')\n",
    "fig"
   ]
  }
 ],
 "metadata": {
  "kernelspec": {
   "display_name": "Python 3.10.3 64-bit",
   "language": "python",
   "name": "python3"
  },
  "language_info": {
   "codemirror_mode": {
    "name": "ipython",
    "version": 3
   },
   "file_extension": ".py",
   "mimetype": "text/x-python",
   "name": "python",
   "nbconvert_exporter": "python",
   "pygments_lexer": "ipython3",
   "version": "3.10.3"
  },
  "orig_nbformat": 4,
  "vscode": {
   "interpreter": {
    "hash": "369f2c481f4da34e4445cda3fffd2e751bd1c4d706f27375911949ba6bb62e1c"
   }
  }
 },
 "nbformat": 4,
 "nbformat_minor": 2
}
